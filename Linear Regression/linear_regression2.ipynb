{
 "cells": [
  {
   "cell_type": "code",
   "execution_count": 62,
   "metadata": {},
   "outputs": [],
   "source": [
    "import pandas as pd\n",
    "import numpy as np\n",
    "import matplotlib.pyplot as plt\n",
    "from scipy import stats\n",
    "import seaborn as sns\n",
    "from sklearn.model_selection import train_test_split\n",
    "\n",
    "from sklearn.linear_model import Ridge"
   ]
  },
  {
   "cell_type": "markdown",
   "metadata": {},
   "source": [
    "# Obtenção dos Dados"
   ]
  },
  {
   "cell_type": "code",
   "execution_count": 13,
   "metadata": {},
   "outputs": [],
   "source": [
    "df_data_t1 = pd.read_csv(\"../dados/data-t1.csv\", index_col=0)"
   ]
  },
  {
   "cell_type": "code",
   "execution_count": 14,
   "metadata": {},
   "outputs": [
    {
     "data": {
      "text/plain": [
       "<matplotlib.axes._subplots.AxesSubplot at 0x23e7fbf6af0>"
      ]
     },
     "execution_count": 14,
     "metadata": {},
     "output_type": "execute_result"
    },
    {
     "data": {
      "image/png": "[encoded data removed]",
      "text/plain": [
       "<Figure size 432x288 with 1 Axes>"
      ]
     },
     "metadata": {
      "needs_background": "light"
     },
     "output_type": "display_data"
    }
   ],
   "source": [
    "df_data_t1[\"diagnosis\"].value_counts().plot.bar()"
   ]
  },
  {
   "cell_type": "code",
   "execution_count": 16,
   "metadata": {},
   "outputs": [
    {
     "data": {
      "text/plain": [
       "Index(['area_mean', 'area_se', 'area_worst', 'compactness_mean',\n",
       "       'compactness_se', 'compactness_worst', 'concave points_mean',\n",
       "       'concave points_se', 'concave points_worst', 'concavity_mean',\n",
       "       'concavity_se', 'concavity_worst', 'diagnosis',\n",
       "       'fractal_dimension_mean', 'fractal_dimension_se',\n",
       "       'fractal_dimension_worst', 'perimeter_mean', 'perimeter_se',\n",
       "       'perimeter_worst', 'radius_mean', 'radius_se', 'radius_worst',\n",
       "       'smoothness_mean', 'smoothness_se', 'smoothness_worst', 'symmetry_mean',\n",
       "       'symmetry_se', 'symmetry_worst', 'texture_mean', 'texture_se',\n",
       "       'texture_worst'],\n",
       "      dtype='object')"
      ]
     },
     "execution_count": 16,
     "metadata": {},
     "output_type": "execute_result"
    }
   ],
   "source": [
    "# Podemos ver que existem colunas que se relacionam\n",
    "df_data_t1.columns.sort_values()"
   ]
  },
  {
   "cell_type": "code",
   "execution_count": 126,
   "metadata": {},
   "outputs": [],
   "source": [
    "# reordenando as colunas\n",
    "df_data_t1 = df_data_t1.reindex(columns=df_data_t1.columns.sort_values())"
   ]
  },
  {
   "cell_type": "code",
   "execution_count": 127,
   "metadata": {},
   "outputs": [
    {
     "name": "stdout",
     "output_type": "stream",
     "text": [
      "<class 'pandas.core.frame.DataFrame'>\n",
      "Int64Index: 569 entries, 842302 to 92751\n",
      "Data columns (total 31 columns):\n",
      " #   Column                   Non-Null Count  Dtype  \n",
      "---  ------                   --------------  -----  \n",
      " 0   area_mean                569 non-null    float64\n",
      " 1   area_se                  569 non-null    float64\n",
      " 2   area_worst               569 non-null    float64\n",
      " 3   compactness_mean         569 non-null    float64\n",
      " 4   compactness_se           569 non-null    float64\n",
      " 5   compactness_worst        569 non-null    float64\n",
      " 6   concave points_mean      569 non-null    float64\n",
      " 7   concave points_se        569 non-null    float64\n",
      " 8   concave points_worst     569 non-null    float64\n",
      " 9   concavity_mean           569 non-null    float64\n",
      " 10  concavity_se             569 non-null    float64\n",
      " 11  concavity_worst          569 non-null    float64\n",
      " 12  diagnosis                569 non-null    object \n",
      " 13  fractal_dimension_mean   569 non-null    float64\n",
      " 14  fractal_dimension_se     569 non-null    float64\n",
      " 15  fractal_dimension_worst  569 non-null    float64\n",
      " 16  perimeter_mean           569 non-null    float64\n",
      " 17  perimeter_se             569 non-null    float64\n",
      " 18  perimeter_worst          569 non-null    float64\n",
      " 19  radius_mean              569 non-null    float64\n",
      " 20  radius_se                569 non-null    float64\n",
      " 21  radius_worst             569 non-null    float64\n",
      " 22  smoothness_mean          569 non-null    float64\n",
      " 23  smoothness_se            569 non-null    float64\n",
      " 24  smoothness_worst         569 non-null    float64\n",
      " 25  symmetry_mean            569 non-null    float64\n",
      " 26  symmetry_se              569 non-null    float64\n",
      " 27  symmetry_worst           569 non-null    float64\n",
      " 28  texture_mean             569 non-null    float64\n",
      " 29  texture_se               569 non-null    float64\n",
      " 30  texture_worst            569 non-null    float64\n",
      "dtypes: float64(30), object(1)\n",
      "memory usage: 158.4+ KB\n"
     ]
    }
   ],
   "source": [
    "df_data_t1.info()"
   ]
  },
  {
   "cell_type": "code",
   "execution_count": 154,
   "metadata": {},
   "outputs": [
    {
     "data": {
      "text/html": [
       "<div>\n",
       "<style scoped>\n",
       "    .dataframe tbody tr th:only-of-type {\n",
       "        vertical-align: middle;\n",
       "    }\n",
       "\n",
       "    .dataframe tbody tr th {\n",
       "        vertical-align: top;\n",
       "    }\n",
       "\n",
       "    .dataframe thead th {\n",
       "        text-align: right;\n",
       "    }\n",
       "</style>\n",
       "<table border=\"1\" class=\"dataframe\">\n",
       "  <thead>\n",
       "    <tr style=\"text-align: right;\">\n",
       "      <th></th>\n",
       "      <th>area_mean</th>\n",
       "      <th>area_se</th>\n",
       "      <th>area_worst</th>\n",
       "      <th>compactness_mean</th>\n",
       "      <th>compactness_se</th>\n",
       "      <th>compactness_worst</th>\n",
       "      <th>concave points_mean</th>\n",
       "      <th>concave points_se</th>\n",
       "      <th>concave points_worst</th>\n",
       "      <th>concavity_mean</th>\n",
       "      <th>...</th>\n",
       "      <th>radius_worst</th>\n",
       "      <th>smoothness_mean</th>\n",
       "      <th>smoothness_se</th>\n",
       "      <th>smoothness_worst</th>\n",
       "      <th>symmetry_mean</th>\n",
       "      <th>symmetry_se</th>\n",
       "      <th>symmetry_worst</th>\n",
       "      <th>texture_mean</th>\n",
       "      <th>texture_se</th>\n",
       "      <th>texture_worst</th>\n",
       "    </tr>\n",
       "  </thead>\n",
       "  <tbody>\n",
       "    <tr>\n",
       "      <th>count</th>\n",
       "      <td>569.000000</td>\n",
       "      <td>569.000000</td>\n",
       "      <td>569.000000</td>\n",
       "      <td>569.000000</td>\n",
       "      <td>569.000000</td>\n",
       "      <td>569.000000</td>\n",
       "      <td>569.000000</td>\n",
       "      <td>569.000000</td>\n",
       "      <td>569.000000</td>\n",
       "      <td>569.000000</td>\n",
       "      <td>...</td>\n",
       "      <td>569.000000</td>\n",
       "      <td>569.000000</td>\n",
       "      <td>569.000000</td>\n",
       "      <td>569.000000</td>\n",
       "      <td>569.000000</td>\n",
       "      <td>569.000000</td>\n",
       "      <td>569.000000</td>\n",
       "      <td>569.000000</td>\n",
       "      <td>569.000000</td>\n",
       "      <td>569.000000</td>\n",
       "    </tr>\n",
       "    <tr>\n",
       "      <th>mean</th>\n",
       "      <td>654.889104</td>\n",
       "      <td>40.337079</td>\n",
       "      <td>880.583128</td>\n",
       "      <td>0.104341</td>\n",
       "      <td>0.025478</td>\n",
       "      <td>0.254265</td>\n",
       "      <td>0.048919</td>\n",
       "      <td>0.011796</td>\n",
       "      <td>0.114606</td>\n",
       "      <td>0.088799</td>\n",
       "      <td>...</td>\n",
       "      <td>16.269190</td>\n",
       "      <td>0.096360</td>\n",
       "      <td>0.007041</td>\n",
       "      <td>0.132369</td>\n",
       "      <td>0.181162</td>\n",
       "      <td>0.020542</td>\n",
       "      <td>0.290076</td>\n",
       "      <td>19.289649</td>\n",
       "      <td>1.216853</td>\n",
       "      <td>25.677223</td>\n",
       "    </tr>\n",
       "    <tr>\n",
       "      <th>std</th>\n",
       "      <td>351.914129</td>\n",
       "      <td>45.491006</td>\n",
       "      <td>569.356993</td>\n",
       "      <td>0.052813</td>\n",
       "      <td>0.017908</td>\n",
       "      <td>0.157336</td>\n",
       "      <td>0.038803</td>\n",
       "      <td>0.006170</td>\n",
       "      <td>0.065732</td>\n",
       "      <td>0.079720</td>\n",
       "      <td>...</td>\n",
       "      <td>4.833242</td>\n",
       "      <td>0.014064</td>\n",
       "      <td>0.003003</td>\n",
       "      <td>0.022832</td>\n",
       "      <td>0.027414</td>\n",
       "      <td>0.008266</td>\n",
       "      <td>0.061867</td>\n",
       "      <td>4.301036</td>\n",
       "      <td>0.551648</td>\n",
       "      <td>6.146258</td>\n",
       "    </tr>\n",
       "    <tr>\n",
       "      <th>min</th>\n",
       "      <td>143.500000</td>\n",
       "      <td>6.802000</td>\n",
       "      <td>185.200000</td>\n",
       "      <td>0.019380</td>\n",
       "      <td>0.002252</td>\n",
       "      <td>0.027290</td>\n",
       "      <td>0.000000</td>\n",
       "      <td>0.000000</td>\n",
       "      <td>0.000000</td>\n",
       "      <td>0.000000</td>\n",
       "      <td>...</td>\n",
       "      <td>7.930000</td>\n",
       "      <td>0.052630</td>\n",
       "      <td>0.001713</td>\n",
       "      <td>0.071170</td>\n",
       "      <td>0.106000</td>\n",
       "      <td>0.007882</td>\n",
       "      <td>0.156500</td>\n",
       "      <td>9.710000</td>\n",
       "      <td>0.360200</td>\n",
       "      <td>12.020000</td>\n",
       "    </tr>\n",
       "    <tr>\n",
       "      <th>25%</th>\n",
       "      <td>420.300000</td>\n",
       "      <td>17.850000</td>\n",
       "      <td>515.300000</td>\n",
       "      <td>0.064920</td>\n",
       "      <td>0.013080</td>\n",
       "      <td>0.147200</td>\n",
       "      <td>0.020310</td>\n",
       "      <td>0.007638</td>\n",
       "      <td>0.064930</td>\n",
       "      <td>0.029560</td>\n",
       "      <td>...</td>\n",
       "      <td>13.010000</td>\n",
       "      <td>0.086370</td>\n",
       "      <td>0.005169</td>\n",
       "      <td>0.116600</td>\n",
       "      <td>0.161900</td>\n",
       "      <td>0.015160</td>\n",
       "      <td>0.250400</td>\n",
       "      <td>16.170000</td>\n",
       "      <td>0.833900</td>\n",
       "      <td>21.080000</td>\n",
       "    </tr>\n",
       "    <tr>\n",
       "      <th>50%</th>\n",
       "      <td>551.100000</td>\n",
       "      <td>24.530000</td>\n",
       "      <td>686.500000</td>\n",
       "      <td>0.092630</td>\n",
       "      <td>0.020450</td>\n",
       "      <td>0.211900</td>\n",
       "      <td>0.033500</td>\n",
       "      <td>0.010930</td>\n",
       "      <td>0.099930</td>\n",
       "      <td>0.061540</td>\n",
       "      <td>...</td>\n",
       "      <td>14.970000</td>\n",
       "      <td>0.095870</td>\n",
       "      <td>0.006380</td>\n",
       "      <td>0.131300</td>\n",
       "      <td>0.179200</td>\n",
       "      <td>0.018730</td>\n",
       "      <td>0.282200</td>\n",
       "      <td>18.840000</td>\n",
       "      <td>1.108000</td>\n",
       "      <td>25.410000</td>\n",
       "    </tr>\n",
       "    <tr>\n",
       "      <th>75%</th>\n",
       "      <td>782.700000</td>\n",
       "      <td>45.190000</td>\n",
       "      <td>1084.000000</td>\n",
       "      <td>0.130400</td>\n",
       "      <td>0.032450</td>\n",
       "      <td>0.339100</td>\n",
       "      <td>0.074000</td>\n",
       "      <td>0.014710</td>\n",
       "      <td>0.161400</td>\n",
       "      <td>0.130700</td>\n",
       "      <td>...</td>\n",
       "      <td>18.790000</td>\n",
       "      <td>0.105300</td>\n",
       "      <td>0.008146</td>\n",
       "      <td>0.146000</td>\n",
       "      <td>0.195700</td>\n",
       "      <td>0.023480</td>\n",
       "      <td>0.317900</td>\n",
       "      <td>21.800000</td>\n",
       "      <td>1.474000</td>\n",
       "      <td>29.720000</td>\n",
       "    </tr>\n",
       "    <tr>\n",
       "      <th>max</th>\n",
       "      <td>2501.000000</td>\n",
       "      <td>542.200000</td>\n",
       "      <td>4254.000000</td>\n",
       "      <td>0.345400</td>\n",
       "      <td>0.135400</td>\n",
       "      <td>1.058000</td>\n",
       "      <td>0.201200</td>\n",
       "      <td>0.052790</td>\n",
       "      <td>0.291000</td>\n",
       "      <td>0.426800</td>\n",
       "      <td>...</td>\n",
       "      <td>36.040000</td>\n",
       "      <td>0.163400</td>\n",
       "      <td>0.031130</td>\n",
       "      <td>0.222600</td>\n",
       "      <td>0.304000</td>\n",
       "      <td>0.078950</td>\n",
       "      <td>0.663800</td>\n",
       "      <td>39.280000</td>\n",
       "      <td>4.885000</td>\n",
       "      <td>49.540000</td>\n",
       "    </tr>\n",
       "  </tbody>\n",
       "</table>\n",
       "<p>8 rows × 30 columns</p>\n",
       "</div>"
      ],
      "text/plain": [
       "         area_mean     area_se   area_worst  compactness_mean  compactness_se  \\\n",
       "count   569.000000  569.000000   569.000000        569.000000      569.000000   \n",
       "mean    654.889104   40.337079   880.583128          0.104341        0.025478   \n",
       "std     351.914129   45.491006   569.356993          0.052813        0.017908   \n",
       "min     143.500000    6.802000   185.200000          0.019380        0.002252   \n",
       "25%     420.300000   17.850000   515.300000          0.064920        0.013080   \n",
       "50%     551.100000   24.530000   686.500000          0.092630        0.020450   \n",
       "75%     782.700000   45.190000  1084.000000          0.130400        0.032450   \n",
       "max    2501.000000  542.200000  4254.000000          0.345400        0.135400   \n",
       "\n",
       "       compactness_worst  concave points_mean  concave points_se  \\\n",
       "count         569.000000           569.000000         569.000000   \n",
       "mean            0.254265             0.048919           0.011796   \n",
       "std             0.157336             0.038803           0.006170   \n",
       "min             0.027290             0.000000           0.000000   \n",
       "25%             0.147200             0.020310           0.007638   \n",
       "50%             0.211900             0.033500           0.010930   \n",
       "75%             0.339100             0.074000           0.014710   \n",
       "max             1.058000             0.201200           0.052790   \n",
       "\n",
       "       concave points_worst  concavity_mean  ...  radius_worst  \\\n",
       "count            569.000000      569.000000  ...    569.000000   \n",
       "mean               0.114606        0.088799  ...     16.269190   \n",
       "std                0.065732        0.079720  ...      4.833242   \n",
       "min                0.000000        0.000000  ...      7.930000   \n",
       "25%                0.064930        0.029560  ...     13.010000   \n",
       "50%                0.099930        0.061540  ...     14.970000   \n",
       "75%                0.161400        0.130700  ...     18.790000   \n",
       "max                0.291000        0.426800  ...     36.040000   \n",
       "\n",
       "       smoothness_mean  smoothness_se  smoothness_worst  symmetry_mean  \\\n",
       "count       569.000000     569.000000        569.000000     569.000000   \n",
       "mean          0.096360       0.007041          0.132369       0.181162   \n",
       "std           0.014064       0.003003          0.022832       0.027414   \n",
       "min           0.052630       0.001713          0.071170       0.106000   \n",
       "25%           0.086370       0.005169          0.116600       0.161900   \n",
       "50%           0.095870       0.006380          0.131300       0.179200   \n",
       "75%           0.105300       0.008146          0.146000       0.195700   \n",
       "max           0.163400       0.031130          0.222600       0.304000   \n",
       "\n",
       "       symmetry_se  symmetry_worst  texture_mean  texture_se  texture_worst  \n",
       "count   569.000000      569.000000    569.000000  569.000000     569.000000  \n",
       "mean      0.020542        0.290076     19.289649    1.216853      25.677223  \n",
       "std       0.008266        0.061867      4.301036    0.551648       6.146258  \n",
       "min       0.007882        0.156500      9.710000    0.360200      12.020000  \n",
       "25%       0.015160        0.250400     16.170000    0.833900      21.080000  \n",
       "50%       0.018730        0.282200     18.840000    1.108000      25.410000  \n",
       "75%       0.023480        0.317900     21.800000    1.474000      29.720000  \n",
       "max       0.078950        0.663800     39.280000    4.885000      49.540000  \n",
       "\n",
       "[8 rows x 30 columns]"
      ]
     },
     "execution_count": 154,
     "metadata": {},
     "output_type": "execute_result"
    }
   ],
   "source": [
    "df_data_t1.describe()"
   ]
  },
  {
   "cell_type": "markdown",
   "metadata": {},
   "source": [
    "## Tratamento dos Dados"
   ]
  },
  {
   "cell_type": "code",
   "execution_count": 48,
   "metadata": {},
   "outputs": [],
   "source": [
    "def get_data(df, column_x, column_y):\n",
    "    X = df[column_x]\n",
    "    Y = df[column_y]\n",
    "    return X, Y"
   ]
  },
  {
   "cell_type": "code",
   "execution_count": 145,
   "metadata": {},
   "outputs": [],
   "source": [
    "def scikit_ridge_regression(X, Y, ridge_factor, n_features=1):\n",
    "    X = np.array(X).reshape(-1, n_features)\n",
    "    Y = np.array(Y).reshape(-1, 1)\n",
    "\n",
    "    model = Ridge(alpha=ridge_factor).fit(X,Y)\n",
    "    return model"
   ]
  },
  {
   "cell_type": "code",
   "execution_count": 146,
   "metadata": {},
   "outputs": [],
   "source": [
    "def plot_2d_model(model, X, Y, label):\n",
    "    x_linha = np.array(X)\n",
    "    y_linha = x_linha * model.coef_[0][0] + model.intercept_[0]\n",
    "    line_linear, = plt.plot(x_linha, y_linha, label=label)\n",
    "    return line_linear"
   ]
  },
  {
   "cell_type": "markdown",
   "metadata": {},
   "source": [
    "# Regressão Linear - Entre os dados numéricos"
   ]
  },
  {
   "cell_type": "markdown",
   "metadata": {},
   "source": [
    "Podemos ver que existem muitas colunas correlacionadas, com 'mean', 'se' e 'worst'. É de se esperar que elas possuam uma relação linear entre elas."
   ]
  },
  {
   "cell_type": "code",
   "execution_count": 151,
   "metadata": {},
   "outputs": [
    {
     "data": {
      "text/plain": [
       "<matplotlib.lines.Line2D at 0x23e39cdf5b0>"
      ]
     },
     "execution_count": 151,
     "metadata": {},
     "output_type": "execute_result"
    },
    {
     "data": {
      "image/png": "[encoded data removed]",
      "text/plain": [
       "<Figure size 432x288 with 1 Axes>"
      ]
     },
     "metadata": {
      "needs_background": "light"
     },
     "output_type": "display_data"
    }
   ],
   "source": [
    "X, Y = get_data(df_data_t1, 'area_mean', 'area_se')\n",
    "model = scikit_ridge_regression(X, Y, 0.1)\n",
    "plt.scatter(X, Y, color='y')\n",
    "plot_2d_model(model, X, Y, 'Regressão')"
   ]
  },
  {
   "cell_type": "markdown",
   "metadata": {},
   "source": [
    "Em outros casos, podemos esperar uma relação quadrática, como a comparação de área com o raio."
   ]
  },
  {
   "cell_type": "code",
   "execution_count": 152,
   "metadata": {},
   "outputs": [
    {
     "data": {
      "text/plain": [
       "<matplotlib.lines.Line2D at 0x23e39d2ca60>"
      ]
     },
     "execution_count": 152,
     "metadata": {},
     "output_type": "execute_result"
    },
    {
     "data": {
      "image/png": "[encoded data removed]",
      "text/plain": [
       "<Figure size 432x288 with 1 Axes>"
      ]
     },
     "metadata": {
      "needs_background": "light"
     },
     "output_type": "display_data"
    }
   ],
   "source": [
    "X, Y = get_data(df_data_t1, 'area_mean', 'radius_mean')\n",
    "model = scikit_ridge_regression(X, Y, 0.1)\n",
    "plt.scatter(X, Y, color='y')\n",
    "plot_2d_model(model, X, Y, 'Regressão')"
   ]
  },
  {
   "cell_type": "markdown",
   "metadata": {},
   "source": [
    "Outras não conseguimos determinar uma relação apenas pelo seu nome, como a área com a simetria, será que estão relacionados? De fato essa regressão está muito mais espalhada que as demais."
   ]
  },
  {
   "cell_type": "code",
   "execution_count": 153,
   "metadata": {},
   "outputs": [
    {
     "data": {
      "text/plain": [
       "<matplotlib.lines.Line2D at 0x23e39d809d0>"
      ]
     },
     "execution_count": 153,
     "metadata": {},
     "output_type": "execute_result"
    },
    {
     "data": {
      "image/png": "[encoded data removed]",
      "text/plain": [
       "<Figure size 432x288 with 1 Axes>"
      ]
     },
     "metadata": {
      "needs_background": "light"
     },
     "output_type": "display_data"
    }
   ],
   "source": [
    "X, Y = get_data(df_data_t1, 'area_mean', 'symmetry_mean')\n",
    "model = scikit_ridge_regression(X, Y, 0.1)\n",
    "plt.scatter(X, Y, color='y')\n",
    "plot_2d_model(model, X, Y, 'Regressão')"
   ]
  },
  {
   "cell_type": "markdown",
   "metadata": {},
   "source": [
    "# Regressão Linear - Para Classificação"
   ]
  },
  {
   "cell_type": "markdown",
   "metadata": {},
   "source": [
    "Como o dataset originalmente tinha um foco de classificação, devido a coluna 'diagnosis', não custa tentarmos utilizar a regressão na tentativa de classificação. Isso é possível porque nossa variável é binária e podemos definir 0 e 1 como seus valores. Definimos 1 como maligno e 0 como benigno. A regressão linear tentará definir um hiperplano que divide em dois subespaços.\n",
    "\n",
    "Com certeza essa não é a melhor opção para realizar uma classificação, podendo utilizar uma regressão logística, porém dado o tema e o dataset é uma exploração interessante a se fazer."
   ]
  },
  {
   "cell_type": "code",
   "execution_count": 155,
   "metadata": {},
   "outputs": [],
   "source": [
    "# separacao de treinamento e validacao\n",
    "df_data_t1_train, df_data_t1_test = train_test_split(df_data_t1, train_size=0.7)"
   ]
  },
  {
   "cell_type": "code",
   "execution_count": 170,
   "metadata": {},
   "outputs": [],
   "source": [
    "# Obtendo os dados de treinamento\n",
    "cols = df_data_t1_train.columns.tolist()\n",
    "cols.remove(\"diagnosis\")\n",
    "\n",
    "X, y = get_data(df_data_t1_train, cols, \"diagnosis\")\n",
    "y = y.map({'M': 1, 'B': 0})"
   ]
  },
  {
   "cell_type": "code",
   "execution_count": 175,
   "metadata": {},
   "outputs": [],
   "source": [
    "# Criando o modelo de 'classificacao'\n",
    "model = scikit_ridge_regression(X, y, 0.1, len(X.columns))"
   ]
  },
  {
   "cell_type": "code",
   "execution_count": 176,
   "metadata": {},
   "outputs": [],
   "source": [
    "# Obtendo os dados de teste\n",
    "cols = df_data_t1_test.columns.tolist()\n",
    "cols.remove(\"diagnosis\")\n",
    "\n",
    "X_test, y_test = get_data(df_data_t1_test, cols, \"diagnosis\")"
   ]
  },
  {
   "cell_type": "code",
   "execution_count": 177,
   "metadata": {},
   "outputs": [],
   "source": [
    "# Predizendo a partir do modelo e os dados de teste\n",
    "y_pred = model.predict(X_test.values) \n",
    "y_pred_class = ['M' if y > 0.5 else 'B' for y in y_pred.flatten()]"
   ]
  },
  {
   "cell_type": "code",
   "execution_count": 174,
   "metadata": {},
   "outputs": [
    {
     "name": "stdout",
     "output_type": "stream",
     "text": [
      "Acurácia: 0.9415204678362573\n",
      "Precisão: 0.9574468085106383\n",
      "Recall: 0.8490566037735849\n",
      "F1-score: 0.9\n"
     ]
    }
   ],
   "source": [
    "from sklearn import metrics\n",
    "\n",
    "print(\"Acurácia:\", metrics.accuracy_score(y_test.tolist(), y_pred_class))\n",
    "print(\"Precisão:\", metrics.precision_score(y_test.tolist(), y_pred_class, average='binary', pos_label='M'))\n",
    "print(\"Recall:\", metrics.recall_score(y_test.tolist(), y_pred_class, average='binary', pos_label='M'))\n",
    "print(\"F1-score:\", metrics.f1_score(y_test.tolist(), y_pred_class, average='binary', pos_label='M'))"
   ]
  },
  {
   "cell_type": "markdown",
   "metadata": {},
   "source": [
    "### Comparativo com Regressão Logística"
   ]
  },
  {
   "cell_type": "markdown",
   "metadata": {},
   "source": [
    "Podemos ver uma boa melhora utilizando a regressão logística."
   ]
  },
  {
   "cell_type": "code",
   "execution_count": 189,
   "metadata": {},
   "outputs": [],
   "source": [
    "from sklearn.linear_model import LogisticRegression\n",
    "from sklearn.preprocessing import StandardScaler"
   ]
  },
  {
   "cell_type": "code",
   "execution_count": 190,
   "metadata": {},
   "outputs": [],
   "source": [
    "# Obtendo os dados de treinamento\n",
    "cols = df_data_t1_train.columns.tolist()\n",
    "cols.remove(\"diagnosis\")\n",
    "\n",
    "X, Y = get_data(df_data_t1_train, cols, \"diagnosis\")\n",
    "\n",
    "# Para chegar a convergência precisamos escalar\n",
    "scaler = StandardScaler().fit(X)\n",
    "X = scaler.transform(X)\n",
    "Y = np.array(Y)\n",
    "\n",
    "# Treinamento\n",
    "model = LogisticRegression().fit(X,Y)"
   ]
  },
  {
   "cell_type": "code",
   "execution_count": 193,
   "metadata": {},
   "outputs": [],
   "source": [
    "# Predizendo a partir do modelo e os dados de teste\n",
    "\n",
    "X_test, Y_test = get_data(df_data_t1_test, cols, \"diagnosis\")\n",
    "\n",
    "# Para chegar a convergência precisamos escalar\n",
    "X_test = scaler.transform(X_test)\n",
    "Y_test = np.array(Y_test)\n",
    "\n",
    "Y_pred = model.predict(X_test) "
   ]
  },
  {
   "cell_type": "code",
   "execution_count": 195,
   "metadata": {},
   "outputs": [
    {
     "name": "stdout",
     "output_type": "stream",
     "text": [
      "Acurácia: 0.9824561403508771\n",
      "Precisão: 0.9807692307692307\n",
      "Recall: 0.9622641509433962\n",
      "F1-score: 0.9714285714285713\n"
     ]
    }
   ],
   "source": [
    "from sklearn import metrics\n",
    "\n",
    "print(\"Acurácia:\", metrics.accuracy_score(Y_test.tolist(), Y_pred))\n",
    "print(\"Precisão:\", metrics.precision_score(Y_test.tolist(), Y_pred, average='binary', pos_label='M'))\n",
    "print(\"Recall:\", metrics.recall_score(Y_test.tolist(), Y_pred, average='binary', pos_label='M'))\n",
    "print(\"F1-score:\", metrics.f1_score(Y_test.tolist(), Y_pred, average='binary', pos_label='M'))"
   ]
  }
 ],
 "metadata": {
  "kernelspec": {
   "display_name": "Python 3.8.10 64-bit",
   "language": "python",
   "name": "python3"
  },
  "language_info": {
   "codemirror_mode": {
    "name": "ipython",
    "version": 3
   },
   "file_extension": ".py",
   "mimetype": "text/x-python",
   "name": "python",
   "nbconvert_exporter": "python",
   "pygments_lexer": "ipython3",
   "version": "3.8.10"
  },
  "orig_nbformat": 4,
  "vscode": {
   "interpreter": {
    "hash": "8fab9519e5b9f56624dac489101d7cc9c8f85803b78a1a8442beb14001d60d52"
   }
  }
 },
 "nbformat": 4,
 "nbformat_minor": 2
}
